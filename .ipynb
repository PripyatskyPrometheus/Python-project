{
 "cells": [
  {
   "cell_type": "code",
   "execution_count": 6,
   "metadata": {},
   "outputs": [
    {
     "name": "stderr",
     "output_type": "stream",
     "text": [
      "c:\\Users\\User\\Python project\\.venv\\lib\\site-packages\\tqdm\\auto.py:22: TqdmWarning: IProgress not found. Please update jupyter and ipywidgets. See https://ipywidgets.readthedocs.io/en/stable/user_install.html\n",
      "  from .autonotebook import tqdm as notebook_tqdm\n"
     ]
    }
   ],
   "source": [
    "import pandas as pd\n",
    "import csv\n",
    "import os\n",
    "import os.path\n",
    "import pymorphy2\n",
    "import regex as re\n",
    "import markus\n",
    "from collections import Counter\n",
    "import string\n",
    "import main\n",
    "import torch\n",
    "import torch.nn as nn\n",
    "import torch.nn.functional as F\n",
    "from torch.autograd import Variable\n",
    "import torchvision\n",
    "import numpy as np\n",
    "import pandas as pd\n",
    "import matplotlib.pyplot as plt\n",
    "import re\n",
    "import os\n",
    "from pymystem3 import Mystem\n",
    "\n",
    "import nltk\n",
    "from nltk.tokenize import word_tokenize\n",
    "from nltk import PorterStemmer\n",
    "from nltk import WordNetLemmatizer\n",
    "from nltk.corpus import stopwords"
   ]
  },
  {
   "attachments": {},
   "cell_type": "markdown",
   "metadata": {},
   "source": [
    "Пункт 1 и Пункт 2"
   ]
  },
  {
   "cell_type": "code",
   "execution_count": 5,
   "metadata": {},
   "outputs": [
    {
     "name": "stdout",
     "output_type": "stream",
     "text": [
      "     class_mark                                        text_review\n",
      "0           bad  Оно\\nМои фильмы из помойки!Мам, а у нас еще ос...\n",
      "1           bad  Оно\\nМои фильмы из помойки!Сразу скажу, что я ...\n",
      "2           bad  Оно\\nМои фильмы из помойки!Если сравнивать ста...\n",
      "3           bad  Оно\\nМои фильмы из помойки!— Прошу меня извини...\n",
      "4           bad  Оно\\nМои фильмы из помойки!Для начала, опишу х...\n",
      "...         ...                                                ...\n",
      "1995       good  Чужой\\nНекоторые фильмы становятся легендарным...\n",
      "1996       good  Чужой\\nНадо же так снять фильм, без отрыва от ...\n",
      "1997       good  Чужой\\nДинамичное, захватывающее, эпичное, вел...\n",
      "1998       good  Чужой\\nНедавно пересмотрел данное творение. Уд...\n",
      "1999       good  Чужой\\nМог ли в 1979 году Ридли Скотт полагать...\n",
      "\n",
      "[2000 rows x 2 columns]\n"
     ]
    }
   ],
   "source": [
    "column_name = ['class_mark', 'text_review', 'count_words']\n",
    "\n",
    "def add_to_list(txt_name: list, text_reviews: list, name_class: list) -> list:\n",
    "    '''возвращает два списка: один с отзывами, другой с меткой класса'''\n",
    "    for i in range(2000):\n",
    "\n",
    "        with open(txt_name[i], 'r', encoding='utf-8') as f:\n",
    "            data = f.read()\n",
    "            text_reviews.append(data)\n",
    "            class_name = str(txt_name[i]).split('\\\\')[1]\n",
    "            name_class.append(class_name)\n",
    "\n",
    "    return text_reviews, name_class\n",
    "\n",
    "def add_to_dataframe() -> pd.DataFrame:\n",
    "    '''записывает в dataframe текст отзыва и метку класса в два столбца'''\n",
    "    filename = \"dataset.csv\"\n",
    "    text_reviews = []\n",
    "    name_class = []\n",
    "    txt_name = []\n",
    "    data_dict = {}\n",
    "\n",
    "    with open(filename, encoding=\"utf-8\") as f:\n",
    "        reader = csv.reader(f, delimiter=' ')\n",
    "        for row in reader:\n",
    "            if row[1] != 'Relative path':\n",
    "                txt_name.append(str(row[1])[3:])\n",
    "\n",
    "    text_reviews, name_class = add_to_list(txt_name, text_reviews, name_class)\n",
    "\n",
    "    column_name = ['class_mark', 'text_review', 'count_words']\n",
    "    data_dict[column_name[0]] = name_class\n",
    "    data_dict[column_name[1]] = text_reviews\n",
    "    reviews_df = pd.DataFrame(data_dict)\n",
    "    return reviews_df\n",
    "\n",
    "reviews_df = add_to_dataframe()\n",
    "print(reviews_df)\n",
    "reviews_df.to_csv('datafraem.csv')"
   ]
  },
  {
   "attachments": {},
   "cell_type": "markdown",
   "metadata": {},
   "source": [
    "Пункт 3\n"
   ]
  },
  {
   "cell_type": "code",
   "execution_count": 8,
   "metadata": {},
   "outputs": [
    {
     "data": {
      "text/html": [
       "<div>\n",
       "<style scoped>\n",
       "    .dataframe tbody tr th:only-of-type {\n",
       "        vertical-align: middle;\n",
       "    }\n",
       "\n",
       "    .dataframe tbody tr th {\n",
       "        vertical-align: top;\n",
       "    }\n",
       "\n",
       "    .dataframe thead th {\n",
       "        text-align: right;\n",
       "    }\n",
       "</style>\n",
       "<table border=\"1\" class=\"dataframe\">\n",
       "  <thead>\n",
       "    <tr style=\"text-align: right;\">\n",
       "      <th></th>\n",
       "      <th>Unnamed: 0</th>\n",
       "      <th>class_mark</th>\n",
       "      <th>text_review</th>\n",
       "    </tr>\n",
       "  </thead>\n",
       "  <tbody>\n",
       "    <tr>\n",
       "      <th>0</th>\n",
       "      <td>0</td>\n",
       "      <td>bad</td>\n",
       "      <td>Оно\\nМои фильмы из помойки!Мам, а у нас еще ос...</td>\n",
       "    </tr>\n",
       "    <tr>\n",
       "      <th>1</th>\n",
       "      <td>1</td>\n",
       "      <td>bad</td>\n",
       "      <td>Оно\\nМои фильмы из помойки!Сразу скажу, что я ...</td>\n",
       "    </tr>\n",
       "    <tr>\n",
       "      <th>2</th>\n",
       "      <td>2</td>\n",
       "      <td>bad</td>\n",
       "      <td>Оно\\nМои фильмы из помойки!Если сравнивать ста...</td>\n",
       "    </tr>\n",
       "    <tr>\n",
       "      <th>3</th>\n",
       "      <td>3</td>\n",
       "      <td>bad</td>\n",
       "      <td>Оно\\nМои фильмы из помойки!— Прошу меня извини...</td>\n",
       "    </tr>\n",
       "    <tr>\n",
       "      <th>4</th>\n",
       "      <td>4</td>\n",
       "      <td>bad</td>\n",
       "      <td>Оно\\nМои фильмы из помойки!Для начала, опишу х...</td>\n",
       "    </tr>\n",
       "  </tbody>\n",
       "</table>\n",
       "</div>"
      ],
      "text/plain": [
       "   Unnamed: 0 class_mark                                        text_review\n",
       "0           0        bad  Оно\\nМои фильмы из помойки!Мам, а у нас еще ос...\n",
       "1           1        bad  Оно\\nМои фильмы из помойки!Сразу скажу, что я ...\n",
       "2           2        bad  Оно\\nМои фильмы из помойки!Если сравнивать ста...\n",
       "3           3        bad  Оно\\nМои фильмы из помойки!— Прошу меня извини...\n",
       "4           4        bad  Оно\\nМои фильмы из помойки!Для начала, опишу х..."
      ]
     },
     "execution_count": 8,
     "metadata": {},
     "output_type": "execute_result"
    }
   ],
   "source": [
    "data = pd.read_csv('datafraem.csv')\n",
    "data.head()"
   ]
  },
  {
   "cell_type": "code",
   "execution_count": 1,
   "metadata": {},
   "outputs": [
    {
     "ename": "NameError",
     "evalue": "name 'pd' is not defined",
     "output_type": "error",
     "traceback": [
      "\u001b[1;31m---------------------------------------------------------------------------\u001b[0m",
      "\u001b[1;31mNameError\u001b[0m                                 Traceback (most recent call last)",
      "Cell \u001b[1;32mIn[1], line 1\u001b[0m\n\u001b[1;32m----> 1\u001b[0m \u001b[39mdef\u001b[39;00m \u001b[39mcheck_nan\u001b[39m(reviews_df: pd\u001b[39m.\u001b[39mDataFrame, column_name:\u001b[39mstr\u001b[39m) \u001b[39m-\u001b[39m\u001b[39m>\u001b[39m \u001b[39mbool\u001b[39m:\n\u001b[0;32m      2\u001b[0m     \u001b[39m'''Проверяем на пустоту в dataframe'''\u001b[39;00m\n\u001b[0;32m      3\u001b[0m     \u001b[39mreturn\u001b[39;00m reviews_df[column_name]\u001b[39m.\u001b[39misnull()\u001b[39m.\u001b[39mvalues\u001b[39m.\u001b[39many()\n",
      "\u001b[1;31mNameError\u001b[0m: name 'pd' is not defined"
     ]
    }
   ],
   "source": [
    "def check_nan(reviews_df: pd.DataFrame, column_name:str) -> bool:\n",
    "    '''Проверяем на пустоту в dataframe'''\n",
    "    return reviews_df[column_name].isnull().values.any()\n",
    "\n",
    "print(markus.check_nan(reviews_df, column_name[0]))\n",
    "print(markus.check_nan(reviews_df, column_name[1]))"
   ]
  },
  {
   "attachments": {},
   "cell_type": "markdown",
   "metadata": {},
   "source": [
    "Пункт 4"
   ]
  },
  {
   "cell_type": "code",
   "execution_count": null,
   "metadata": {},
   "outputs": [],
   "source": [
    "count_word = markus.count_words_in_text(reviews_df, column_name[1])\n",
    "reviews_df[column_name[2]] = pd.Series(count_word)\n",
    "print(reviews_df)"
   ]
  },
  {
   "attachments": {},
   "cell_type": "markdown",
   "metadata": {},
   "source": [
    "Пункт 5"
   ]
  },
  {
   "cell_type": "code",
   "execution_count": null,
   "metadata": {},
   "outputs": [],
   "source": []
  },
  {
   "attachments": {},
   "cell_type": "markdown",
   "metadata": {},
   "source": [
    "Пункт 9"
   ]
  },
  {
   "cell_type": "code",
   "execution_count": 4,
   "metadata": {},
   "outputs": [
    {
     "ename": "NameError",
     "evalue": "name 'markus' is not defined",
     "output_type": "error",
     "traceback": [
      "\u001b[1;31m---------------------------------------------------------------------------\u001b[0m",
      "\u001b[1;31mNameError\u001b[0m                                 Traceback (most recent call last)",
      "Cell \u001b[1;32mIn[4], line 2\u001b[0m\n\u001b[0;32m      1\u001b[0m lemma \u001b[39m=\u001b[39m []\n\u001b[1;32m----> 2\u001b[0m lemma \u001b[39m=\u001b[39m markus\u001b[39m.\u001b[39mlemmatize_for_class_mark(reviews_df, \u001b[39m'\u001b[39m\u001b[39mgood\u001b[39m\u001b[39m'\u001b[39m)\n\u001b[0;32m      3\u001b[0m lemma \u001b[39m=\u001b[39m lemma\u001b[39m.\u001b[39msort()\n\u001b[0;32m      5\u001b[0m word_dict \u001b[39m=\u001b[39m Counter(lemma)\n",
      "\u001b[1;31mNameError\u001b[0m: name 'markus' is not defined"
     ]
    }
   ],
   "source": [
    "lemma = []\n",
    "lemma = markus.lemmatize_for_class_mark(reviews_df, 'good')\n",
    "lemma = lemma.sort()\n",
    "\n",
    "word_dict = Counter(lemma)\n",
    "word_dict = dict(word_dict)\n",
    "word_dict_upd = {}\n",
    "bad_functors_pos = {'INTJ', 'PRCL', 'CONJ', 'PREP', 'NPRO'}\n",
    "bad_words = {'этот', 'мой', 'наш', 'один', 'который', 'весь', 'быть'}\n",
    "verb_functors_pos = {'VERB', 'INFN'}\n",
    "good_functors_pos = {'ADJS', 'ADJF'}\n",
    "for key, value in word_dict.items(): \n",
    "    markus.pos(key)   \n",
    "    if value > 500 and  markus.pos(key) in verb_functors_pos and key != ' ' and key not in bad_words:\n",
    "        word_dict_upd[key] = value\n",
    "\n",
    "print(word_dict_upd)"
   ]
  },
  {
   "attachments": {},
   "cell_type": "markdown",
   "metadata": {},
   "source": [
    "Пункт 10"
   ]
  },
  {
   "cell_type": "code",
   "execution_count": 3,
   "metadata": {},
   "outputs": [
    {
     "ename": "NameError",
     "evalue": "name 'word_dict_upd' is not defined",
     "output_type": "error",
     "traceback": [
      "\u001b[1;31m---------------------------------------------------------------------------\u001b[0m",
      "\u001b[1;31mNameError\u001b[0m                                 Traceback (most recent call last)",
      "Cell \u001b[1;32mIn[3], line 7\u001b[0m\n\u001b[0;32m      4\u001b[0m fig \u001b[39m=\u001b[39m plt\u001b[39m.\u001b[39mfigure(figsize\u001b[39m=\u001b[39m(\u001b[39m20\u001b[39m,\u001b[39m10\u001b[39m))\n\u001b[0;32m      5\u001b[0m ax \u001b[39m=\u001b[39m fig\u001b[39m.\u001b[39madd_subplot()\n\u001b[1;32m----> 7\u001b[0m ax\u001b[39m.\u001b[39mbar(\u001b[39mlist\u001b[39m(word_dict_upd\u001b[39m.\u001b[39mkeys()), word_dict_upd\u001b[39m.\u001b[39mvalues(), color\u001b[39m=\u001b[39m\u001b[39m'\u001b[39m\u001b[39mr\u001b[39m\u001b[39m'\u001b[39m)\n\u001b[0;32m      9\u001b[0m plt\u001b[39m.\u001b[39mshow()\n",
      "\u001b[1;31mNameError\u001b[0m: name 'word_dict_upd' is not defined"
     ]
    },
    {
     "data": {
      "image/png": "[encoded data removed]",
      "text/plain": [
       "<Figure size 2000x1000 with 1 Axes>"
      ]
     },
     "metadata": {},
     "output_type": "display_data"
    }
   ],
   "source": [
    "from matplotlib import pyplot as plt\n",
    "import numpy as np\n",
    "\n",
    "def lemmatize(text) -> list:\n",
    "    morph = pymorphy2.MorphAnalyzer()\n",
    "    new_list = []\n",
    "    tt = str.maketrans(dict.fromkeys(string.punctuation))\n",
    "    elem = text.translate(tt)\n",
    "    if elem is not None:\n",
    "        list_words = elem.split()\n",
    "    for word in list_words:\n",
    "        p = morph.parse(word)[0]\n",
    "        new_list.append(p.normal_form)\n",
    "    return new_list\n",
    "\n",
    "def create_histogram(reviews_df: pd.DataFrame, label: str) -> plt.Figure:\n",
    "\n",
    "    dict = {}\n",
    "    list = []\n",
    "    reviews_df = reviews_df[reviews_df['class_mark'] == label][['text_review']]\n",
    "    for text in reviews_df['text_review']:\n",
    "        list_new = lemmatize(text)\n",
    "    for word in list_new:\n",
    "        if word not in dict.keys():\n",
    "            dict[word] = list_new.count(word)\n",
    "            list.append(list_new.count(word))\n",
    "    return list, dict\n",
    "\n",
    "reviews_df = markus.add_to_dataframe()\n",
    "\n",
    "list_t, dict = create_histogram(reviews_df, 'good')\n",
    "\n",
    "plt.figure(figsize=(30, 5))\n",
    "plt.ylabel('Количество слов')\n",
    "plt.title('Гистограмма')\n",
    "\n",
    "new = []\n",
    "for elem in dict:\n",
    "    print(elem)\n",
    "new.append(elem)\n",
    "plt.hist(list_t[:20], bins=len(list_t), color='blue', edgecolor='black')\n",
    "plt.xticks(np.arange(len(list_t[:20])), new[:20],rotation=90, horizontalalignment='left')\n",
    "\n",
    "plt.show()\n"
   ]
  }
 ],
 "metadata": {
  "kernelspec": {
   "display_name": ".venv",
   "language": "python",
   "name": "python3"
  },
  "language_info": {
   "codemirror_mode": {
    "name": "ipython",
    "version": 3
   },
   "file_extension": ".py",
   "mimetype": "text/x-python",
   "name": "python",
   "nbconvert_exporter": "python",
   "pygments_lexer": "ipython3",
   "version": "3.9.13 (tags/v3.9.13:6de2ca5, May 17 2022, 16:36:42) [MSC v.1929 64 bit (AMD64)]"
  },
  "orig_nbformat": 4,
  "vscode": {
   "interpreter": {
    "hash": "a0d7deea41377acd7594bbedbdb6d7223a9e220dd91b2cbf4252681cb7a443c6"
   }
  }
 },
 "nbformat": 4,
 "nbformat_minor": 2
}
